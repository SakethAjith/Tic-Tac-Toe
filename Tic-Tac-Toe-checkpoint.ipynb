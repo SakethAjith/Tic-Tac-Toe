{
 "cells": [
  {
   "cell_type": "code",
   "execution_count": 1,
   "metadata": {},
   "outputs": [],
   "source": [
    "from IPython.display import clear_output\n",
    "board=[' ']*10\n",
    "# print(board)"
   ]
  },
  {
   "cell_type": "code",
   "execution_count": 2,
   "metadata": {},
   "outputs": [],
   "source": [
    "def begin():\n",
    "    global board,end\n",
    "    board = [' '] * 10\n",
    "    end = False"
   ]
  },
  {
   "cell_type": "code",
   "execution_count": 3,
   "metadata": {},
   "outputs": [],
   "source": [
    "def Tie(board):\n",
    "    if ' ' in board[1:]:\n",
    "        return False\n",
    "    else:\n",
    "        return True"
   ]
  },
  {
   "cell_type": "code",
   "execution_count": 4,
   "metadata": {},
   "outputs": [],
   "source": [
    "def display(b):\n",
    "    print(\"  {}|{} |{} \".format(b[7],b[8],b[9]))\n",
    "    print(\"___|__|___\")\n",
    "    print(\"  {}|{} |{} \".format(b[4],b[5],b[6]))\n",
    "    print(\"___|__|___\")\n",
    "    print(\"  {}|{} |{} \".format(b[1],b[2],b[3]))\n",
    "    print(\"___|__|___\")\n",
    "# display(board)"
   ]
  },
  {
   "cell_type": "code",
   "execution_count": 5,
   "metadata": {},
   "outputs": [],
   "source": [
    "def win_check(board, player):\n",
    "    if (board[7]  ==  board[8] ==  board[9] == player) or \\\n",
    "        (board[4] ==  board[5] ==  board[6] == player) or \\\n",
    "        (board[1] ==  board[2] ==  board[3] == player) or \\\n",
    "        (board[7] ==  board[4] ==  board[1] == player) or \\\n",
    "        (board[8] ==  board[5] ==  board[2] == player) or \\\n",
    "        (board[9] ==  board[6] ==  board[3] == player) or \\\n",
    "        (board[1] ==  board[5] ==  board[9] == player) or \\\n",
    "        (board[3] ==  board[5] ==  board[7] == player):\n",
    "        return True\n",
    "    else:\n",
    "        return False"
   ]
  },
  {
   "cell_type": "code",
   "execution_count": 6,
   "metadata": {},
   "outputs": [],
   "source": [
    "def player(user):\n",
    "    global board,end\n",
    "    \n",
    "    play(user)\n",
    "    \n",
    "    if win_check(board,user):\n",
    "        clear_output()\n",
    "        display(board)\n",
    "        print(user,\"is The Winner!!\")\n",
    "        end=True\n",
    "        \n",
    "    clear_output()\n",
    "    display(board)\n",
    "    \n",
    "    if Tie(board):\n",
    "        print(\"Tie!!\")\n",
    "        end=True\n",
    "    return end"
   ]
  },
  {
   "cell_type": "code",
   "execution_count": 7,
   "metadata": {},
   "outputs": [],
   "source": [
    "def play(user):\n",
    "    global end\n",
    "    print(user,\"'s Turn! \")\n",
    "#     sys=''\n",
    "#     user=input(\"Choose X or O:\")\n",
    "#     if(user=='X'):\n",
    "#         sys='O'\n",
    "#     else:\n",
    "#         sys='X'\n",
    "    while not end:\n",
    "        try:\n",
    "            pos=int(input(\"Choose block(1-9):\"))\n",
    "        except ValueError:\n",
    "            print(\"Please choose valid block number\")\n",
    "            continue\n",
    "        print(pos)\n",
    "        if pos in list(range(1,10)) or board[pos] !=' ':\n",
    "            board[pos]=user\n",
    "            break\n",
    "        else:\n",
    "            print(\"Please choose valid block number\")\n",
    "            continue\n",
    "        "
   ]
  },
  {
   "cell_type": "code",
   "execution_count": 11,
   "metadata": {},
   "outputs": [],
   "source": [
    "def tictactoe():\n",
    "    begin()\n",
    "    user=\"T\"\n",
    "    x='X'\n",
    "    o='O'\n",
    "    \n",
    "    while True:\n",
    "        player(x)\n",
    "        if end:\n",
    "            user=x\n",
    "            break\n",
    "        \n",
    "        player(o)\n",
    "        if end:\n",
    "            user=o\n",
    "            break\n",
    "    \n",
    "    if Tie(board):\n",
    "        print(\"Tie!!\")\n",
    "    else:\n",
    "        print(user,\"is The Winner!!\")\n",
    "    \n",
    "    \n",
    "    rematch=input(\"Rematch?:y/n\")\n",
    "    if rematch=='y':\n",
    "        tictactoe()\n",
    "    else:\n",
    "        print(\"Thank You For Playing!!\")"
   ]
  },
  {
   "cell_type": "code",
   "execution_count": 12,
   "metadata": {},
   "outputs": [
    {
     "name": "stdout",
     "output_type": "stream",
     "text": [
      "  X|  |  \n",
      "___|__|___\n",
      "  X|  |O \n",
      "___|__|___\n",
      "  X|  |O \n",
      "___|__|___\n",
      "X is The Winner!!\n",
      "Rematch?:y/nn\n",
      "Thank You For Playing!!\n"
     ]
    }
   ],
   "source": [
    "tictactoe()"
   ]
  },
  {
   "cell_type": "markdown",
   "metadata": {},
   "source": [
    "###### 4##### "
   ]
  }
 ],
 "metadata": {
  "kernelspec": {
   "display_name": "Python 3",
   "language": "python",
   "name": "python3"
  },
  "language_info": {
   "codemirror_mode": {
    "name": "ipython",
    "version": 3
   },
   "file_extension": ".py",
   "mimetype": "text/x-python",
   "name": "python",
   "nbconvert_exporter": "python",
   "pygments_lexer": "ipython3",
   "version": "3.7.3"
  }
 },
 "nbformat": 4,
 "nbformat_minor": 2
}
